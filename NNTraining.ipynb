{
 "cells": [
  {
   "cell_type": "code",
   "execution_count": null,
   "id": "ab1b6f22",
   "metadata": {},
   "name": "cell",
   "outputs": [],
   "source": [
    "from google.colab import auth\n",
    "from sklearn.model_selection import train_test_split\n",
    "from sklearn.preprocessing import MinMaxScaler\n",
    "from tensorflow.keras.layers import Dense\n",
    "from tensorflow.keras.models import Sequential\n",
    "from google.colab import auth\n",
    "import gspread\n",
    "from google.auth import default\n",
    "import pandas as pd\n",
    "\n",
    "\n",
    "auth.authenticate_user()\n",
    "creds, _ = default()\n",
    "gc=gspread.authorize(creds)\n",
    "worksheet = gc.open('data').sheet1\n",
    "data=worksheet.get_all_values()\n",
    "\n",
    "dataset1=pd.DataFrame(data[1:], columns=data[0])\n",
    "dataset1=dataset1.astype({'x':'float'})\n",
    "dataset1=dataset1.astype({'y':'float'})\n",
    "dataset1\n",
    "x=dataset1[['x']].values\n",
    "y=dataset1[['y']].values\n",
    "\n",
    "x_train,x_test,y_train,y_test=train_test_split(x,y,test_size=0.33,random_state=33)\n",
    "Scaler=MinMaxScaler()\n",
    "Scaler.fit(x_train)\n",
    "x_train1=Scaler.transform(x_train)\n",
    "\n",
    "ai_brain = Sequential([\n",
    "    Dense(8,activation = 'relu',input_shape=[1]),\n",
    "    Dense(10, activation = 'relu'),\n",
    "    Dense(1)\n",
    "])\n",
    "ai_brain.compile(optimizer = 'rmsprop', loss = 'mse')\n",
    "ai_brain.fit(x_train1,y_train,epochs=1997)\n",
    "loss_df=pd.DataFrame(ai_brain.history.history)\n",
    "loss_df.plot()\n",
    "\n",
    "x_test1=Scaler.transform(x_test)\n",
    "ai_brain.evaluate(x_test1,y_test)\n",
    "\n",
    "x_n1=[[11]]\n",
    "x_n1_1=Scaler.transform(x_n1)\n",
    "ai_brain.predict(x_n1_1)"
   ]
  }
 ],
 "metadata": {
  "kernelspec": {
   "display_name": "Python 3",
   "language": "python",
   "name": "python3"
  },
  "language_info": {
   "codemirror_mode": {
    "name": "ipython",
    "version": 3
   },
   "file_extension": ".py",
   "mimetype": "text/x-python",
   "name": "python",
   "nbconvert_exporter": "python",
   "pygments_lexer": "ipython3",
   "version": "3.7.3"
  }
 },
 "nbformat": 4,
 "nbformat_minor": 5
}
